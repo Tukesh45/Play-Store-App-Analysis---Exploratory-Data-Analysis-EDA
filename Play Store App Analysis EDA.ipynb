{
  "nbformat": 4,
  "nbformat_minor": 0,
  "metadata": {
    "colab": {
      "private_outputs": true,
      "provenance": [],
      "collapsed_sections": [
        "K5QZ13OEpz2H",
        "448CDAPjqfQr",
        "t6dVpIINYklI",
        "-JiQyfWJYklI",
        "EM7whBJCYoAo",
        "fge-S5ZAYoAp",
        "RoGjAbkUYoAp",
        "4Of9eVA-YrdM",
        "iky9q4vBYrdO",
        "y-Ehk30pYrdP",
        "bamQiAODYuh1",
        "QHF8YVU7Yuh3",
        "OH-pJp9IphqM",
        "bbFf2-_FphqN",
        "_ouA3fa0phqN",
        "Seke61FWphqN",
        "r2jJGEOYphqO",
        "b0JNsNcRphqO",
        "jj7wYXLtphqO",
        "eZrbJ2SmphqO",
        "rFu4xreNphqO",
        "gCFgpxoyphqP",
        "OVtJsKN_phqQ",
        "lssrdh5qphqQ",
        "1M8mcRywphqQ",
        "tgIPom80phqQ",
        "8G2x9gOozGDZ",
        "gIfDvo9L0UH2"
      ]
    },
    "kernelspec": {
      "name": "python3",
      "display_name": "Python 3"
    },
    "language_info": {
      "name": "python"
    }
  },
  "cells": [
    {
      "cell_type": "markdown",
      "source": [
        "# **Project Name**    -\n",
        "\n"
      ],
      "metadata": {
        "id": "vncDsAP0Gaoa"
      }
    },
    {
      "cell_type": "markdown",
      "source": [
        "##### **Project Type**    - \"EDA-Google-Play-store-data\"\n",
        "##### **Contribution**    - Individual\n",
        "##### **Team Member 1 -** Tukaram Sunil Munde\n"
      ],
      "metadata": {
        "id": "beRrZCGUAJYm"
      }
    },
    {
      "cell_type": "markdown",
      "source": [
        "# **Project Summary -**"
      ],
      "metadata": {
        "id": "FJNUwmbgGyua"
      }
    },
    {
      "cell_type": "markdown",
      "source": [
        "The Play Store apps data has enormous potential to drive app-making businesses to success. Actionable insights can be drawn for developers to work on and capture the Android market. Each app (row) has values for category, rating, size, and more. Another dataset contains customer reviews of the android apps. Explore and analyse the data to discover key factors responsible for app engagement and success."
      ],
      "metadata": {
        "id": "F6v_1wHtG2nS"
      }
    },
    {
      "cell_type": "markdown",
      "source": [
        "# **GitHub Link -**"
      ],
      "metadata": {
        "id": "w6K7xa23Elo4"
      }
    },
    {
      "cell_type": "markdown",
      "source": [
        "Provide your GitHub Link here. https://github.com/Tukesh45"
      ],
      "metadata": {
        "id": "h1o69JH3Eqqn"
      }
    },
    {
      "cell_type": "markdown",
      "source": [
        "# **Problem Statement**\n"
      ],
      "metadata": {
        "id": "yQaldy8SH6Dl"
      }
    },
    {
      "cell_type": "markdown",
      "source": [
        "**Write Problem Statement Here.**"
      ],
      "metadata": {
        "id": "DpeJGUA3kjGy"
      }
    },
    {
      "cell_type": "markdown",
      "source": [
        "#### **Define Your Business Objective?**"
      ],
      "metadata": {
        "id": "PH-0ReGfmX4f"
      }
    },
    {
      "cell_type": "markdown",
      "source": [
        "Answer Here."
      ],
      "metadata": {
        "id": "PhDvGCAqmjP1"
      }
    },
    {
      "cell_type": "markdown",
      "source": [
        "# **General Guidelines** : -  "
      ],
      "metadata": {
        "id": "mDgbUHAGgjLW"
      }
    },
    {
      "cell_type": "markdown",
      "source": [
        "1.   Well-structured, formatted, and commented code is required.\n",
        "2.   Exception Handling, Production Grade Code & Deployment Ready Code will be a plus. Those students will be awarded some additional credits.\n",
        "     \n",
        "     The additional credits will have advantages over other students during Star Student selection.\n",
        "       \n",
        "             [ Note: - Deployment Ready Code is defined as, the whole .ipynb notebook should be executable in one go\n",
        "                       without a single error logged. ]\n",
        "\n",
        "3.   Each and every logic should have proper comments.\n",
        "4. You may add as many number of charts you want. Make Sure for each and every chart the following format should be answered.\n",
        "        \n",
        "\n",
        "```\n",
        "# Chart visualization code\n",
        "```\n",
        "            \n",
        "\n",
        "*   Why did you pick the specific chart?\n",
        "*   What is/are the insight(s) found from the chart?\n",
        "* Will the gained insights help creating a positive business impact?\n",
        "Are there any insights that lead to negative growth? Justify with specific reason.\n",
        "\n",
        "5. You have to create at least 20 logical & meaningful charts having important insights.\n",
        "\n",
        "\n",
        "[ Hints : - Do the Vizualization in  a structured way while following \"UBM\" Rule.\n",
        "\n",
        "U - Univariate Analysis,\n",
        "\n",
        "B - Bivariate Analysis (Numerical - Categorical, Numerical - Numerical, Categorical - Categorical)\n",
        "\n",
        "M - Multivariate Analysis\n",
        " ]\n",
        "\n",
        "\n",
        "\n"
      ],
      "metadata": {
        "id": "ZrxVaUj-hHfC"
      }
    },
    {
      "cell_type": "markdown",
      "source": [
        "# ***Let's Begin !***"
      ],
      "metadata": {
        "id": "O_i_v8NEhb9l"
      }
    },
    {
      "cell_type": "markdown",
      "source": [
        "## ***1. Know Your Data***"
      ],
      "metadata": {
        "id": "HhfV-JJviCcP"
      }
    },
    {
      "cell_type": "markdown",
      "source": [
        "### Import Libraries"
      ],
      "metadata": {
        "id": "Y3lxredqlCYt"
      }
    },
    {
      "cell_type": "code",
      "source": [
        "# Import Libraries\n",
        "import pandas as pd\n",
        "import numpy as np\n",
        "import matplotlib.pyplot as plt\n",
        "import seaborn as sns\n",
        "%matplotlib inline"
      ],
      "metadata": {
        "id": "M8Vqi-pPk-HR"
      },
      "execution_count": null,
      "outputs": []
    },
    {
      "cell_type": "markdown",
      "source": [
        "### Dataset Loading"
      ],
      "metadata": {
        "id": "3RnN4peoiCZX"
      }
    },
    {
      "cell_type": "code",
      "source": [
        "# Load Dataset\n",
        "filepath='googleplaystore.csv'\n",
        "app_raw_df=pd.read_csv(filepath)"
      ],
      "metadata": {
        "id": "4CkvbW_SlZ_R"
      },
      "execution_count": null,
      "outputs": []
    },
    {
      "cell_type": "code",
      "source": [
        "# Create a copy of the current dataset and assigning to app_df\n",
        "app_df = app_raw_df.copy()"
      ],
      "metadata": {
        "id": "YrTJ8MtuG5rs"
      },
      "execution_count": null,
      "outputs": []
    },
    {
      "cell_type": "markdown",
      "source": [
        "### Dataset First View"
      ],
      "metadata": {
        "id": "x71ZqKXriCWQ"
      }
    },
    {
      "cell_type": "code",
      "source": [
        "# Dataset First Look\n",
        "app_df.head(10)\n"
      ],
      "metadata": {
        "id": "LWNFOSvLl09H"
      },
      "execution_count": null,
      "outputs": []
    },
    {
      "cell_type": "code",
      "source": [
        "# Dataset last Look\n",
        "app_df.tail(10)\n",
        "\n"
      ],
      "metadata": {
        "id": "9g1lfvWVFg1s"
      },
      "execution_count": null,
      "outputs": []
    },
    {
      "cell_type": "code",
      "source": [
        "# Dataset random Look\n",
        "app_df.sample(10)"
      ],
      "metadata": {
        "id": "gvacj_cQFrMV"
      },
      "execution_count": null,
      "outputs": []
    },
    {
      "cell_type": "markdown",
      "source": [
        "### Dataset Rows & Columns count"
      ],
      "metadata": {
        "id": "7hBIi_osiCS2"
      }
    },
    {
      "cell_type": "code",
      "source": [
        "# Dataset Rows & Columns count\n",
        "app_df.shape"
      ],
      "metadata": {
        "id": "Kllu7SJgmLij"
      },
      "execution_count": null,
      "outputs": []
    },
    {
      "cell_type": "markdown",
      "source": [
        "### Dataset Information"
      ],
      "metadata": {
        "id": "JlHwYmJAmNHm"
      }
    },
    {
      "cell_type": "code",
      "source": [
        "# Dataset Info\n",
        "app_df.info()"
      ],
      "metadata": {
        "id": "e9hRXRi6meOf"
      },
      "execution_count": null,
      "outputs": []
    },
    {
      "cell_type": "markdown",
      "source": [
        "#### Duplicate Values"
      ],
      "metadata": {
        "id": "35m5QtbWiB9F"
      }
    },
    {
      "cell_type": "code",
      "source": [
        "# Dataset Duplicate Value Count\n",
        "len(app_df[app_df.duplicated()])"
      ],
      "metadata": {
        "id": "1sLdpKYkmox0"
      },
      "execution_count": null,
      "outputs": []
    },
    {
      "cell_type": "markdown",
      "source": [
        "#### Missing Values/Null Values"
      ],
      "metadata": {
        "id": "PoPl-ycgm1ru"
      }
    },
    {
      "cell_type": "code",
      "source": [
        "# Missing Values/Null Values Count\n",
        "app_df.isnull().sum()"
      ],
      "metadata": {
        "id": "GgHWkxvamxVg"
      },
      "execution_count": null,
      "outputs": []
    },
    {
      "cell_type": "code",
      "source": [
        "# Visualizing the missing values\n",
        "sns.heatmap(app_df.isnull(),cbar=False)"
      ],
      "metadata": {
        "id": "3q5wnI3om9sJ"
      },
      "execution_count": null,
      "outputs": []
    },
    {
      "cell_type": "markdown",
      "source": [
        "### What did you know about your dataset?"
      ],
      "metadata": {
        "id": "H0kj-8xxnORC"
      }
    },
    {
      "cell_type": "markdown",
      "source": [
        "we have a dataset containing information about google playstore apps. Lets clean & prepare our data for analysis."
      ],
      "metadata": {
        "id": "gfoNAAC-nUe_"
      }
    },
    {
      "cell_type": "markdown",
      "source": [
        "## ***2. Understanding Your Variables***"
      ],
      "metadata": {
        "id": "nA9Y7ga8ng1Z"
      }
    },
    {
      "cell_type": "code",
      "source": [
        "# Dataset Columns\n",
        "app_df.columns"
      ],
      "metadata": {
        "id": "j7xfkqrt5Ag5"
      },
      "execution_count": null,
      "outputs": []
    },
    {
      "cell_type": "code",
      "source": [
        "# Dataset Describe\n",
        "app_df.describe()"
      ],
      "metadata": {
        "id": "DnOaZdaE5Q5t"
      },
      "execution_count": null,
      "outputs": []
    },
    {
      "cell_type": "markdown",
      "source": [
        "### Variables Description"
      ],
      "metadata": {
        "id": "PBTbrJXOngz2"
      }
    },
    {
      "cell_type": "markdown",
      "source": [
        "![Screenshot_2024_08_28_at_1_56_23_AM_ddae2b6e99.png](data:image/png;base64,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)"
      ],
      "metadata": {
        "id": "aJV4KIxSnxay"
      }
    },
    {
      "cell_type": "markdown",
      "source": [
        "### Check Unique Values for each variable."
      ],
      "metadata": {
        "id": "u3PMJOP6ngxN"
      }
    },
    {
      "cell_type": "code",
      "source": [
        "# Check Unique Values for each variable.\n",
        "app_df.nunique()"
      ],
      "metadata": {
        "id": "zms12Yq5n-jE"
      },
      "execution_count": null,
      "outputs": []
    },
    {
      "cell_type": "markdown",
      "source": [
        "## 3. ***Data Wrangling***"
      ],
      "metadata": {
        "id": "dauF4eBmngu3"
      }
    },
    {
      "cell_type": "markdown",
      "source": [
        "### Data Wrangling Code"
      ],
      "metadata": {
        "id": "bKJF3rekwFvQ"
      }
    },
    {
      "cell_type": "code",
      "source": [
        "# Write your code to make your dataset analysis ready.\n",
        "\n",
        "app_df['Rating']=app_df.Rating.fillna(round(app_df.Rating.mean(),1))"
      ],
      "metadata": {
        "id": "wk-9a2fpoLcV"
      },
      "execution_count": null,
      "outputs": []
    },
    {
      "cell_type": "code",
      "source": [
        "app_df.head(5)"
      ],
      "metadata": {
        "id": "gKnmyM0wGrI_"
      },
      "execution_count": null,
      "outputs": []
    },
    {
      "cell_type": "code",
      "source": [
        "app_df= app_df.drop(['Current Ver','Android Ver'],axis=1)\n",
        "app_df.info()"
      ],
      "metadata": {
        "id": "8cQaEe9BIM6M"
      },
      "execution_count": null,
      "outputs": []
    },
    {
      "cell_type": "code",
      "source": [
        "#Lets drop missing values from remaining data\n",
        "app_df=app_df.dropna()\n",
        "app_df.head(10)"
      ],
      "metadata": {
        "id": "GTUWJ2hAI5Hr"
      },
      "execution_count": null,
      "outputs": []
    },
    {
      "cell_type": "code",
      "source": [
        "app_df.info()"
      ],
      "metadata": {
        "id": "ExmbFWxQI_qm"
      },
      "execution_count": null,
      "outputs": []
    },
    {
      "cell_type": "code",
      "source": [
        "app_df['Installs']=pd.to_numeric(app_df['Installs'].replace({'\\+': '', ',': ''}, regex=True))\n",
        "app_df['Price']= pd.to_numeric(app_df['Price'].replace({'\\$': '', ',': ''}, regex=True))\n",
        "app_df['Last Updated']= pd.to_datetime(app_df['Last Updated'])"
      ],
      "metadata": {
        "id": "JPE1Gn71e-GC"
      },
      "execution_count": null,
      "outputs": []
    },
    {
      "cell_type": "code",
      "source": [
        "# # Handling Incorrect datatype\n",
        "# app_df=app_df.astype({'Rating':'float64'})\n",
        "# app_df=app_df.astype({'Price':'float64'})\n",
        "# app_df=app_df['Last Updated']= pd.to_datetime(app_df['Last Updated'])"
      ],
      "metadata": {
        "id": "9dAflXZgJSrk"
      },
      "execution_count": null,
      "outputs": []
    },
    {
      "cell_type": "code",
      "source": [
        "app_df.info()"
      ],
      "metadata": {
        "id": "kzKUCGpeK5P0"
      },
      "execution_count": null,
      "outputs": []
    },
    {
      "cell_type": "code",
      "source": [
        "# We have many duplicate rows in our dataset so lets drop duplicate rows\n",
        "app_df=app_df.drop_duplicates()"
      ],
      "metadata": {
        "id": "1TvpUkkDLgI8"
      },
      "execution_count": null,
      "outputs": []
    },
    {
      "cell_type": "code",
      "source": [
        "app_df.describe()"
      ],
      "metadata": {
        "id": "Kr8i6TOZLlUk"
      },
      "execution_count": null,
      "outputs": []
    },
    {
      "cell_type": "markdown",
      "source": [
        "After droping duplicate rows we have 9780 rows.Now we have cleaned up and prepared data for analysis.\n",
        "\n"
      ],
      "metadata": {
        "id": "YYfPUFqnMWW7"
      }
    },
    {
      "cell_type": "markdown",
      "source": [
        "### What all manipulations have you done and insights you found?"
      ],
      "metadata": {
        "id": "MSa1f5Uengrz"
      }
    },
    {
      "cell_type": "markdown",
      "source": [
        "it seems like there are difference in non-null values in 5 columns Rating, Type, Content Rating, Current Ver, Android Ver.\n",
        "\n",
        "As there is most nan values in in Rating& it is numeric column,we can fill Nan values with mean value of Rating column\n",
        "we are not considring Current Ver, Android Ver columns for analysis, so we can drop them.\n",
        "As there is less number missing values in remaining columns we can drop those rows."
      ],
      "metadata": {
        "id": "LbyXE7I1olp8"
      }
    },
    {
      "cell_type": "markdown",
      "source": [
        "## ***4. Data Vizualization, Storytelling & Experimenting with charts : Understand the relationships between variables***"
      ],
      "metadata": {
        "id": "GF8Ens_Soomf"
      }
    },
    {
      "cell_type": "markdown",
      "source": [
        "#### Chart - App Categories"
      ],
      "metadata": {
        "id": "0wOQAZs5pc--"
      }
    },
    {
      "cell_type": "code",
      "source": [
        "# Chart - 1 visualization code\n",
        "top_categories=app_df.Category.value_counts()\n",
        "top_categories"
      ],
      "metadata": {
        "id": "7v_ESjsspbW7"
      },
      "execution_count": null,
      "outputs": []
    },
    {
      "cell_type": "code",
      "source": [
        "plt.figure(figsize=(14,6))\n",
        "plt.xticks(rotation=75)\n",
        "plt.title(\"Top App Categories\")\n",
        "sns.barplot(top_categories);\n",
        "plt.ylabel(\"Number of Apps\")\n",
        "plt.xlabel(\"Caregories\")\n"
      ],
      "metadata": {
        "id": "WcGB2SlONCoV"
      },
      "execution_count": null,
      "outputs": []
    },
    {
      "cell_type": "markdown",
      "source": [
        "##### 1. Why did you pick the specific chart?"
      ],
      "metadata": {
        "id": "K5QZ13OEpz2H"
      }
    },
    {
      "cell_type": "markdown",
      "source": [
        "we can visualize this information using bar charts."
      ],
      "metadata": {
        "id": "XESiWehPqBRc"
      }
    },
    {
      "cell_type": "markdown",
      "source": [
        "##### 2. What is/are the insight(s) found from the chart?"
      ],
      "metadata": {
        "id": "lQ7QKXXCp7Bj"
      }
    },
    {
      "cell_type": "markdown",
      "source": [
        "From the above graph we can infer that most apps are in 3 categories FAMILY,GAME,TOOLS"
      ],
      "metadata": {
        "id": "C_j1G7yiqdRP"
      }
    },
    {
      "cell_type": "markdown",
      "source": [
        "##### 3. Will the gained insights help creating a positive business impact?\n",
        "Are there any insights that lead to negative growth? Justify with specific reason."
      ],
      "metadata": {
        "id": "448CDAPjqfQr"
      }
    },
    {
      "cell_type": "markdown",
      "source": [
        "Answer Here"
      ],
      "metadata": {
        "id": "3cspy4FjqxJW"
      }
    },
    {
      "cell_type": "markdown",
      "source": [
        "#### Chart - App Types"
      ],
      "metadata": {
        "id": "KSlN3yHqYklG"
      }
    },
    {
      "cell_type": "code",
      "source": [
        "app_type_count=app_df.Type.value_counts()\n",
        "app_type_count"
      ],
      "metadata": {
        "id": "QFe08rXkOYkt"
      },
      "execution_count": null,
      "outputs": []
    },
    {
      "cell_type": "code",
      "source": [
        "# Chart - 2 visualization code\n",
        "plt.figure(figsize=(12,6))\n",
        "plt.title(\"distribution of Apps \")\n",
        "plt.pie(app_type_count, labels=app_type_count.index, autopct='%1.1f%%', startangle=180);"
      ],
      "metadata": {
        "id": "R4YgtaqtYklH"
      },
      "execution_count": null,
      "outputs": []
    },
    {
      "cell_type": "markdown",
      "source": [
        "##### 1. Why did you pick the specific chart?"
      ],
      "metadata": {
        "id": "t6dVpIINYklI"
      }
    },
    {
      "cell_type": "markdown",
      "source": [
        "we can visualize this in pie chart."
      ],
      "metadata": {
        "id": "5aaW0BYyYklI"
      }
    },
    {
      "cell_type": "markdown",
      "source": [
        "##### 2. What is/are the insight(s) found from the chart?"
      ],
      "metadata": {
        "id": "ijmpgYnKYklI"
      }
    },
    {
      "cell_type": "markdown",
      "source": [
        "Looking at above chart we can infer that there are 92.2% free apps & only 7.8% paid apps on google playstore."
      ],
      "metadata": {
        "id": "PSx9atu2YklI"
      }
    },
    {
      "cell_type": "markdown",
      "source": [
        "##### 3. Will the gained insights help creating a positive business impact?\n",
        "Are there any insights that lead to negative growth? Justify with specific reason."
      ],
      "metadata": {
        "id": "-JiQyfWJYklI"
      }
    },
    {
      "cell_type": "markdown",
      "source": [
        "Answer Here"
      ],
      "metadata": {
        "id": "BcBbebzrYklV"
      }
    },
    {
      "cell_type": "markdown",
      "source": [
        "#### Chart - App Genres"
      ],
      "metadata": {
        "id": "EM7whBJCYoAo"
      }
    },
    {
      "cell_type": "code",
      "source": [
        "app_df.Genres.unique()\n",
        "app_Genres_df=app_df.Genres.value_counts().head(50)\n",
        "app_Genres_df"
      ],
      "metadata": {
        "id": "5aL_smS8O7kE"
      },
      "execution_count": null,
      "outputs": []
    },
    {
      "cell_type": "code",
      "source": [
        "# Chart - 3 visualization code\n",
        "plt.figure(figsize=(14,6))\n",
        "plt.xticks(rotation=75)\n",
        "sns.barplot(app_Genres_df)\n",
        "plt.title(\"Apps Genres\");\n",
        "plt.xlabel('count');\n"
      ],
      "metadata": {
        "id": "t6GMdE67YoAp"
      },
      "execution_count": null,
      "outputs": []
    },
    {
      "cell_type": "markdown",
      "source": [
        "##### 1. Why did you pick the specific chart?"
      ],
      "metadata": {
        "id": "fge-S5ZAYoAp"
      }
    },
    {
      "cell_type": "markdown",
      "source": [
        "Answer Here."
      ],
      "metadata": {
        "id": "5dBItgRVYoAp"
      }
    },
    {
      "cell_type": "markdown",
      "source": [
        "##### 2. What is/are the insight(s) found from the chart?"
      ],
      "metadata": {
        "id": "85gYPyotYoAp"
      }
    },
    {
      "cell_type": "markdown",
      "source": [
        "There are more than 500 apps in 3 app genres: Tools, Entertainment, Education"
      ],
      "metadata": {
        "id": "4jstXR6OYoAp"
      }
    },
    {
      "cell_type": "markdown",
      "source": [
        "##### 3. Will the gained insights help creating a positive business impact?\n",
        "Are there any insights that lead to negative growth? Justify with specific reason."
      ],
      "metadata": {
        "id": "RoGjAbkUYoAp"
      }
    },
    {
      "cell_type": "markdown",
      "source": [
        "Answer Here"
      ],
      "metadata": {
        "id": "zfJ8IqMcYoAp"
      }
    },
    {
      "cell_type": "markdown",
      "source": [
        "#### Chart - App Content Rating"
      ],
      "metadata": {
        "id": "4Of9eVA-YrdM"
      }
    },
    {
      "cell_type": "code",
      "source": [
        "print(app_df['Content Rating'].unique())\n",
        "# app_Content_Ratings=app_df['Content Rating'].value_counts()\n",
        "# app_Content_Ratings\n",
        "app_Content_Ratings_df=app_df[(app_df['Content Rating'].str.contains('Unrated')!=True) & (app_df['Content Rating'].str.contains('Adults only 18+')!=True)]\n",
        "app_Content_Ratings=app_Content_Ratings_df['Content Rating'].value_counts()\n",
        "app_Content_Ratings"
      ],
      "metadata": {
        "id": "eLMW_kwlQ1Z9"
      },
      "execution_count": null,
      "outputs": []
    },
    {
      "cell_type": "code",
      "source": [
        "# Chart - 4 visualization code\n",
        "plt.figure(figsize=(12,6))\n",
        "plt.title(\"distribution of Apps based on content rating\")\n",
        "plt.pie(app_Content_Ratings, labels=app_Content_Ratings.index, autopct='%1.1f%%', startangle=180);"
      ],
      "metadata": {
        "id": "irlUoxc8YrdO"
      },
      "execution_count": null,
      "outputs": []
    },
    {
      "cell_type": "markdown",
      "source": [
        "##### 1. Why did you pick the specific chart?"
      ],
      "metadata": {
        "id": "iky9q4vBYrdO"
      }
    },
    {
      "cell_type": "markdown",
      "source": [
        "Answer Here."
      ],
      "metadata": {
        "id": "aJRCwT6DYrdO"
      }
    },
    {
      "cell_type": "markdown",
      "source": [
        "##### 2. What is/are the insight(s) found from the chart?"
      ],
      "metadata": {
        "id": "F6T5p64dYrdO"
      }
    },
    {
      "cell_type": "markdown",
      "source": [
        "From the above graph we can infer that 81.7 apps can be used by everyone."
      ],
      "metadata": {
        "id": "Xx8WAJvtYrdO"
      }
    },
    {
      "cell_type": "markdown",
      "source": [
        "##### 3. Will the gained insights help creating a positive business impact?\n",
        "Are there any insights that lead to negative growth? Justify with specific reason."
      ],
      "metadata": {
        "id": "y-Ehk30pYrdP"
      }
    },
    {
      "cell_type": "markdown",
      "source": [
        "Answer Here"
      ],
      "metadata": {
        "id": "jLNxxz7MYrdP"
      }
    },
    {
      "cell_type": "markdown",
      "source": [
        "#### Chart - scatterplot"
      ],
      "metadata": {
        "id": "bamQiAODYuh1"
      }
    },
    {
      "cell_type": "code",
      "source": [
        "# Chart - 5 visualization code\n",
        "sns.scatterplot(x='Price',y='Installs', hue='Rating', data=app_df)\n",
        "plt.xlabel(\"Price\")\n",
        "plt.ylabel(\"Number of Downloads\");"
      ],
      "metadata": {
        "id": "TIJwrbroYuh3"
      },
      "execution_count": null,
      "outputs": []
    },
    {
      "cell_type": "markdown",
      "source": [
        "##### 1. Why did you pick the specific chart?"
      ],
      "metadata": {
        "id": "QHF8YVU7Yuh3"
      }
    },
    {
      "cell_type": "markdown",
      "source": [
        "Answer Here."
      ],
      "metadata": {
        "id": "dcxuIMRPYuh3"
      }
    },
    {
      "cell_type": "markdown",
      "source": [
        "##### 2. What is/are the insight(s) found from the chart?"
      ],
      "metadata": {
        "id": "GwzvFGzlYuh3"
      }
    },
    {
      "cell_type": "markdown",
      "source": [
        "From the above scattorplot we can observe following points.\n",
        "\n",
        "Maximum app downloads are in free apps\n",
        "-Most of paid apps are under 50\n",
        "-There are some high priced apps above 370 & up to 400\n",
        "-There are some high priced apps below average app rating"
      ],
      "metadata": {
        "id": "uyqkiB8YYuh3"
      }
    },
    {
      "cell_type": "markdown",
      "source": [
        "##### 3. Will the gained insights help creating a positive business impact?\n",
        "Are there any insights that lead to negative growth? Justify with specific reason."
      ],
      "metadata": {
        "id": "qYpmQ266Yuh3"
      }
    },
    {
      "cell_type": "markdown",
      "source": [
        "Answer Here"
      ],
      "metadata": {
        "id": "_WtzZ_hCYuh4"
      }
    },
    {
      "cell_type": "code",
      "source": [
        "paid_apps_df=app_df[(app_df.Price>0)]\n",
        "paid_apps_df"
      ],
      "metadata": {
        "id": "B3e1ZzW-Unsl"
      },
      "execution_count": null,
      "outputs": []
    },
    {
      "cell_type": "markdown",
      "source": [
        "#### Chart - App categories Which have highest downloads"
      ],
      "metadata": {
        "id": "OH-pJp9IphqM"
      }
    },
    {
      "cell_type": "code",
      "source": [
        "high_install_df= app_df[app_df.Installs==app_df.Installs.max()]\n",
        "\n",
        "high_install_df.Category.unique().tolist()"
      ],
      "metadata": {
        "id": "KHj9kjPLVZDX"
      },
      "execution_count": null,
      "outputs": []
    },
    {
      "cell_type": "markdown",
      "source": [
        "There are 12 categories having highest downloads"
      ],
      "metadata": {
        "id": "EWrcCS14V2H-"
      }
    },
    {
      "cell_type": "code",
      "source": [
        "# Chart - 6 visualization code\n",
        "plt.title(\"Highest downloads app Categories\")\n",
        "plt.ylabel(\"Installs in Billions\")\n",
        "sns.barplot(x=high_install_df.Installs,y=high_install_df.Category);"
      ],
      "metadata": {
        "id": "kuRf4wtuphqN"
      },
      "execution_count": null,
      "outputs": []
    },
    {
      "cell_type": "markdown",
      "source": [
        "##### 1. Why did you pick the specific chart?"
      ],
      "metadata": {
        "id": "bbFf2-_FphqN"
      }
    },
    {
      "cell_type": "markdown",
      "source": [
        "Answer Here."
      ],
      "metadata": {
        "id": "loh7H2nzphqN"
      }
    },
    {
      "cell_type": "markdown",
      "source": [
        "##### 2. What is/are the insight(s) found from the chart?"
      ],
      "metadata": {
        "id": "_ouA3fa0phqN"
      }
    },
    {
      "cell_type": "markdown",
      "source": [
        "Answer Here"
      ],
      "metadata": {
        "id": "VECbqPI7phqN"
      }
    },
    {
      "cell_type": "markdown",
      "source": [
        "##### 3. Will the gained insights help creating a positive business impact?\n",
        "Are there any insights that lead to negative growth? Justify with specific reason."
      ],
      "metadata": {
        "id": "Seke61FWphqN"
      }
    },
    {
      "cell_type": "markdown",
      "source": [
        "Answer Here"
      ],
      "metadata": {
        "id": "DW4_bGpfphqN"
      }
    },
    {
      "cell_type": "markdown",
      "source": [
        "#### Top 10 paid apps by considering number of downloads & Rating"
      ],
      "metadata": {
        "id": "PIIx-8_IphqN"
      }
    },
    {
      "cell_type": "code",
      "source": [
        "paid_apps_df[['App','Rating','Installs','Price']].sort_values([\"Installs\",\"Rating\"],ascending=False).head(10)"
      ],
      "metadata": {
        "id": "CrMD2ulqXAlm"
      },
      "execution_count": null,
      "outputs": []
    },
    {
      "cell_type": "markdown",
      "source": [
        "##### 1. Why did you pick the specific chart?"
      ],
      "metadata": {
        "id": "t27r6nlMphqO"
      }
    },
    {
      "cell_type": "markdown",
      "source": [
        "Answer Here."
      ],
      "metadata": {
        "id": "iv6ro40sphqO"
      }
    },
    {
      "cell_type": "markdown",
      "source": [
        "##### 2. What is/are the insight(s) found from the chart?"
      ],
      "metadata": {
        "id": "r2jJGEOYphqO"
      }
    },
    {
      "cell_type": "markdown",
      "source": [
        "Answer Here"
      ],
      "metadata": {
        "id": "Po6ZPi4hphqO"
      }
    },
    {
      "cell_type": "markdown",
      "source": [
        "##### 3. Will the gained insights help creating a positive business impact?\n",
        "Are there any insights that lead to negative growth? Justify with specific reason."
      ],
      "metadata": {
        "id": "b0JNsNcRphqO"
      }
    },
    {
      "cell_type": "markdown",
      "source": [
        "Answer Here"
      ],
      "metadata": {
        "id": "xvSq8iUTphqO"
      }
    },
    {
      "cell_type": "markdown",
      "source": [
        "#### Apps have rating below average but have downloads more than average.\n",
        "for paid apps"
      ],
      "metadata": {
        "id": "BZR9WyysphqO"
      }
    },
    {
      "cell_type": "code",
      "source": [
        "(paid_apps_df[(paid_apps_df.Rating<paid_apps_df.Rating.mean()) &(paid_apps_df.Installs>paid_apps_df.Installs.mean())])[['App','Rating','Installs','Price']]"
      ],
      "metadata": {
        "id": "TdPTWpAVphqO"
      },
      "execution_count": null,
      "outputs": []
    },
    {
      "cell_type": "markdown",
      "source": [
        "##### 1. Why did you pick the specific chart?"
      ],
      "metadata": {
        "id": "jj7wYXLtphqO"
      }
    },
    {
      "cell_type": "markdown",
      "source": [
        "Answer Here."
      ],
      "metadata": {
        "id": "Ob8u6rCTphqO"
      }
    },
    {
      "cell_type": "markdown",
      "source": [
        "##### 2. What is/are the insight(s) found from the chart?"
      ],
      "metadata": {
        "id": "eZrbJ2SmphqO"
      }
    },
    {
      "cell_type": "markdown",
      "source": [
        "Answer Here"
      ],
      "metadata": {
        "id": "mZtgC_hjphqO"
      }
    },
    {
      "cell_type": "markdown",
      "source": [
        "##### 3. Will the gained insights help creating a positive business impact?\n",
        "Are there any insights that lead to negative growth? Justify with specific reason."
      ],
      "metadata": {
        "id": "rFu4xreNphqO"
      }
    },
    {
      "cell_type": "markdown",
      "source": [
        "Answer Here"
      ],
      "metadata": {
        "id": "ey_0qi68phqO"
      }
    },
    {
      "cell_type": "markdown",
      "source": [
        "#### top educational apps\n"
      ],
      "metadata": {
        "id": "YJ55k-q6phqO"
      }
    },
    {
      "cell_type": "code",
      "source": [
        "# For Paid Apps\n",
        "paid_apps_df[(paid_apps_df['Category'].str.contains('EDUCATION')==True)].sort_values([\"Installs\",\"Rating\"],ascending=False).head(10)"
      ],
      "metadata": {
        "id": "B2aS4O1ophqO"
      },
      "execution_count": null,
      "outputs": []
    },
    {
      "cell_type": "code",
      "source": [
        "# For Free Apps\n",
        "app_df[app_df['Category'].str.contains('EDUCATION')==True].sort_values([\"Installs\",\"Rating\"],ascending=False).head(10)"
      ],
      "metadata": {
        "id": "DpGMFxaWZLC2"
      },
      "execution_count": null,
      "outputs": []
    },
    {
      "cell_type": "markdown",
      "source": [
        "##### 1. Why did you pick the specific chart?"
      ],
      "metadata": {
        "id": "gCFgpxoyphqP"
      }
    },
    {
      "cell_type": "markdown",
      "source": [
        "Answer Here."
      ],
      "metadata": {
        "id": "TVxDimi2phqP"
      }
    },
    {
      "cell_type": "markdown",
      "source": [
        "##### 2. What is/are the insight(s) found from the chart?"
      ],
      "metadata": {
        "id": "OVtJsKN_phqQ"
      }
    },
    {
      "cell_type": "markdown",
      "source": [
        "Answer Here"
      ],
      "metadata": {
        "id": "ngGi97qjphqQ"
      }
    },
    {
      "cell_type": "markdown",
      "source": [
        "##### 3. Will the gained insights help creating a positive business impact?\n",
        "Are there any insights that lead to negative growth? Justify with specific reason."
      ],
      "metadata": {
        "id": "lssrdh5qphqQ"
      }
    },
    {
      "cell_type": "markdown",
      "source": [
        "Answer Here"
      ],
      "metadata": {
        "id": "tBpY5ekJphqQ"
      }
    },
    {
      "cell_type": "markdown",
      "source": [
        "#### Chart - categories have paid apps"
      ],
      "metadata": {
        "id": "U2RJ9gkRphqQ"
      }
    },
    {
      "cell_type": "code",
      "source": [
        "paid_categories=paid_apps_df.Category.value_counts()\n",
        "paid_categories"
      ],
      "metadata": {
        "id": "GM7a4YP4phqQ"
      },
      "execution_count": null,
      "outputs": []
    },
    {
      "cell_type": "code",
      "source": [
        "plt.figure(figsize=(14,6))\n",
        "plt.xticks(rotation=75)\n",
        "plt.xlabel(\"Categories\")\n",
        "plt.title(\"Paid Apps Categories\")\n",
        "sns.barplot (paid_categories);\n",
        "plt.ylabel(\"Number of apps\")"
      ],
      "metadata": {
        "id": "43uUcQAWZnS-"
      },
      "execution_count": null,
      "outputs": []
    },
    {
      "cell_type": "markdown",
      "source": [
        "##### 1. Why did you pick the specific chart?"
      ],
      "metadata": {
        "id": "1M8mcRywphqQ"
      }
    },
    {
      "cell_type": "markdown",
      "source": [
        "Answer Here."
      ],
      "metadata": {
        "id": "8agQvks0phqQ"
      }
    },
    {
      "cell_type": "markdown",
      "source": [
        "##### 2. What is/are the insight(s) found from the chart?"
      ],
      "metadata": {
        "id": "tgIPom80phqQ"
      }
    },
    {
      "cell_type": "markdown",
      "source": [
        "Answer Here"
      ],
      "metadata": {
        "id": "Qp13pnNzphqQ"
      }
    },
    {
      "cell_type": "markdown",
      "source": [
        "##### 3. Will the gained insights help creating a positive business impact?\n",
        "Are there any insights that lead to negative growth? Justify with specific reason."
      ],
      "metadata": {
        "id": "JMzcOPDDphqR"
      }
    },
    {
      "cell_type": "markdown",
      "source": [
        "Answer Here"
      ],
      "metadata": {
        "id": "R4Ka1PC2phqR"
      }
    },
    {
      "cell_type": "markdown",
      "source": [
        "## **5. Solution to Business Objective**"
      ],
      "metadata": {
        "id": "JcMwzZxoAimU"
      }
    },
    {
      "cell_type": "markdown",
      "source": [
        "#### What do you suggest the client to achieve Business Objective ?\n",
        "Explain Briefly."
      ],
      "metadata": {
        "id": "8G2x9gOozGDZ"
      }
    },
    {
      "cell_type": "markdown",
      "source": [
        "Answer Here."
      ],
      "metadata": {
        "id": "pASKb0qOza21"
      }
    },
    {
      "cell_type": "markdown",
      "source": [
        "# **Conclusion**"
      ],
      "metadata": {
        "id": "gCX9965dhzqZ"
      }
    },
    {
      "cell_type": "markdown",
      "source": [
        "We have drawn some inferences as:\n",
        "\n",
        "- Most apps are in 3 categories `FAMILY`,`GAME`,`TOOLS`\n",
        "- There are `92.2%` free apps & only `7.8%` paid apps on google playstore.\n",
        "- There are more than 500 apps in 3 app genres: `Tools`, `Entertainment`, `Education`\n",
        "- From the above graph we can infer that `81.7` apps can be used by everyone.\n",
        "- Maximum app downloads are in free apps\n",
        "- Most of paid apps are under `$50`\n",
        "- There are some high priced apps above `$370` & up to `$400`\n",
        "- There are some high priced apps below average app rating"
      ],
      "metadata": {
        "id": "Fjb1IsQkh3yE"
      }
    },
    {
      "cell_type": "markdown",
      "source": [
        "### ***Hurrah! You have successfully completed your EDA Capstone Project !!!***"
      ],
      "metadata": {
        "id": "gIfDvo9L0UH2"
      }
    }
  ]
}